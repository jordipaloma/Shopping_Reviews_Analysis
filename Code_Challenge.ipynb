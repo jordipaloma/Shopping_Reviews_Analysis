{
  "nbformat": 4,
  "nbformat_minor": 0,
  "metadata": {
    "colab": {
      "name": "Adevinta-Code_Challenge.ipynb",
      "provenance": [],
      "collapsed_sections": []
    },
    "kernelspec": {
      "name": "python3",
      "display_name": "Python 3"
    },
    "language_info": {
      "name": "python"
    }
  },
  "cells": [
    {
      "cell_type": "markdown",
      "metadata": {
        "id": "YHBi7PkRXIwI"
      },
      "source": [
        "### CODE CHALLENGE - DATA ANALYST"
      ]
    },
    {
      "cell_type": "code",
      "metadata": {
        "id": "8O9YIqlbXz6R"
      },
      "source": [
        "# Import libraries\n",
        "\n",
        "import pandas as pd\n",
        "import numpy as np\n",
        "import matplotlib.pyplot as plt\n",
        "import seaborn as sns\n",
        "%matplotlib inline"
      ],
      "execution_count": 64,
      "outputs": []
    },
    {
      "cell_type": "code",
      "metadata": {
        "id": "1pYrdlg-W7Bj"
      },
      "source": [
        "# Read JSON file\n",
        "\n",
        "ratings_df = pd.read_json('rating_per_user.json', lines=True)"
      ],
      "execution_count": 65,
      "outputs": []
    },
    {
      "cell_type": "code",
      "metadata": {
        "colab": {
          "base_uri": "https://localhost:8080/",
          "height": 408
        },
        "id": "uQchNnibZ85z",
        "outputId": "3e43807c-9d11-45a0-8e1e-4e0eb261f81b"
      },
      "source": [
        "# Explore the dataset\n",
        "\n",
        "print(ratings_df.info())\n",
        "ratings_df.head()"
      ],
      "execution_count": 66,
      "outputs": [
        {
          "output_type": "stream",
          "name": "stdout",
          "text": [
            "<class 'pandas.core.frame.DataFrame'>\n",
            "RangeIndex: 206396 entries, 0 to 206395\n",
            "Data columns (total 4 columns):\n",
            " #   Column        Non-Null Count   Dtype \n",
            "---  ------        --------------   ----- \n",
            " 0   ratingType    206396 non-null  object\n",
            " 1   ratings       206396 non-null  object\n",
            " 2   ratings_date  206396 non-null  object\n",
            " 3   nof_reviews   206396 non-null  int64 \n",
            "dtypes: int64(1), object(3)\n",
            "memory usage: 6.3+ MB\n",
            "None\n"
          ]
        },
        {
          "output_type": "execute_result",
          "data": {
            "text/html": [
              "<div>\n",
              "<style scoped>\n",
              "    .dataframe tbody tr th:only-of-type {\n",
              "        vertical-align: middle;\n",
              "    }\n",
              "\n",
              "    .dataframe tbody tr th {\n",
              "        vertical-align: top;\n",
              "    }\n",
              "\n",
              "    .dataframe thead th {\n",
              "        text-align: right;\n",
              "    }\n",
              "</style>\n",
              "<table border=\"1\" class=\"dataframe\">\n",
              "  <thead>\n",
              "    <tr style=\"text-align: right;\">\n",
              "      <th></th>\n",
              "      <th>ratingType</th>\n",
              "      <th>ratings</th>\n",
              "      <th>ratings_date</th>\n",
              "      <th>nof_reviews</th>\n",
              "    </tr>\n",
              "  </thead>\n",
              "  <tbody>\n",
              "    <tr>\n",
              "      <th>0</th>\n",
              "      <td>SellerToBuyer</td>\n",
              "      <td>[5.0, 5.0, 5.0, 5.0, 5.0, 5.0, 5.0, 5.0, 5.0, ...</td>\n",
              "      <td>[2021-01-27, 2021-01-13, 2021-01-13, 2021-02-0...</td>\n",
              "      <td>86</td>\n",
              "    </tr>\n",
              "    <tr>\n",
              "      <th>1</th>\n",
              "      <td>BuyerToSeller</td>\n",
              "      <td>[5.0, 5.0, 5.0, 5.0, 5.0, 5.0, 5.0, 5.0, 5.0, ...</td>\n",
              "      <td>[2021-01-09, 2021-01-09, 2021-01-09, 2021-01-0...</td>\n",
              "      <td>85</td>\n",
              "    </tr>\n",
              "    <tr>\n",
              "      <th>2</th>\n",
              "      <td>BuyerToSeller</td>\n",
              "      <td>[5.0, 5.0, 5.0, 5.0, 5.0, 5.0, 5.0, 5.0, 5.0, ...</td>\n",
              "      <td>[2021-01-01, 2021-01-01, 2021-01-20, 2021-01-2...</td>\n",
              "      <td>29</td>\n",
              "    </tr>\n",
              "    <tr>\n",
              "      <th>3</th>\n",
              "      <td>SellerToBuyer</td>\n",
              "      <td>[5.0, 5.0, 5.0, 5.0, 5.0, 5.0, 5.0, 5.0, 5.0, ...</td>\n",
              "      <td>[2021-01-31, 2021-01-31, 2021-01-31, 2021-01-1...</td>\n",
              "      <td>28</td>\n",
              "    </tr>\n",
              "    <tr>\n",
              "      <th>4</th>\n",
              "      <td>BuyerToSeller</td>\n",
              "      <td>[5.0, 5.0, 5.0, 5.0, 5.0, 5.0, 5.0, 5.0, 5.0, ...</td>\n",
              "      <td>[2021-01-22, 2021-01-22, 2021-01-22, 2021-01-2...</td>\n",
              "      <td>24</td>\n",
              "    </tr>\n",
              "  </tbody>\n",
              "</table>\n",
              "</div>"
            ],
            "text/plain": [
              "      ratingType  ... nof_reviews\n",
              "0  SellerToBuyer  ...          86\n",
              "1  BuyerToSeller  ...          85\n",
              "2  BuyerToSeller  ...          29\n",
              "3  SellerToBuyer  ...          28\n",
              "4  BuyerToSeller  ...          24\n",
              "\n",
              "[5 rows x 4 columns]"
            ]
          },
          "metadata": {},
          "execution_count": 66
        }
      ]
    },
    {
      "cell_type": "markdown",
      "metadata": {
        "id": "YSYWmrYuGLo2"
      },
      "source": [
        "### 1.1 What is the period where these ratings were collected?"
      ]
    },
    {
      "cell_type": "code",
      "metadata": {
        "colab": {
          "base_uri": "https://localhost:8080/"
        },
        "id": "jMC1Ma2kp1Xr",
        "outputId": "22d89e0d-ea9e-4105-a613-d295614970b1"
      },
      "source": [
        "# Transform dates to calculate period\n",
        "\n",
        "from datetime import datetime\n",
        "\n",
        "date_array = np.array(ratings_df['ratings_date'])\n",
        "#dates_list = [datetime.strptime(d,'%Y-%m-%d') for d in date_list]\n",
        "date_df = pd.DataFrame(np.concatenate(date_array).tolist())\n",
        "\n",
        "print(\"Initial date:\", date_df.min()[0])\n",
        "print(\"Final date:\", date_df.max()[0])"
      ],
      "execution_count": 67,
      "outputs": [
        {
          "output_type": "stream",
          "name": "stdout",
          "text": [
            "Initial date: 2021-01-01\n",
            "Final date: 2021-02-14\n"
          ]
        }
      ]
    },
    {
      "cell_type": "markdown",
      "metadata": {
        "id": "xm3O3jZZ4tM9"
      },
      "source": [
        "##### ANSWER 1: The ratings were taken between the 01-01-2021 and the 14-02-2021, and every day all the "
      ]
    },
    {
      "cell_type": "markdown",
      "metadata": {
        "id": "BEiUWitkGDxB"
      },
      "source": [
        "### 1.2 What is the distribution of the number of received ratings per user?"
      ]
    },
    {
      "cell_type": "code",
      "metadata": {
        "id": "7dg4tJzh22sz",
        "colab": {
          "base_uri": "https://localhost:8080/",
          "height": 283
        },
        "outputId": "f91644c2-2e09-4137-812c-63de3f8c6510"
      },
      "source": [
        "# For first impression of the data, plotting boxplot to detect if there are any outliers\n",
        "\n",
        "ratings_df.boxplot(column='nof_reviews')"
      ],
      "execution_count": 68,
      "outputs": [
        {
          "output_type": "execute_result",
          "data": {
            "text/plain": [
              "<matplotlib.axes._subplots.AxesSubplot at 0x7fe69f275350>"
            ]
          },
          "metadata": {},
          "execution_count": 68
        },
        {
          "output_type": "display_data",
          "data": {
            "image/png": "[encoded data removed]",
            "text/plain": [
              "<Figure size 432x288 with 1 Axes>"
            ]
          },
          "metadata": {
            "needs_background": "light"
          }
        }
      ]
    },
    {
      "cell_type": "code",
      "metadata": {
        "id": "bekK-krvP8g6",
        "colab": {
          "base_uri": "https://localhost:8080/",
          "height": 331
        },
        "outputId": "050bf2bf-9a5a-4be3-d197-b7efc1a89cad"
      },
      "source": [
        "# Statistics of the number of reviews\n",
        "\n",
        "print(\"Median:\", ratings_df.median())\n",
        "ratings_df.describe()"
      ],
      "execution_count": 69,
      "outputs": [
        {
          "output_type": "stream",
          "name": "stdout",
          "text": [
            "Median: nof_reviews    1.0\n",
            "dtype: float64\n"
          ]
        },
        {
          "output_type": "execute_result",
          "data": {
            "text/html": [
              "<div>\n",
              "<style scoped>\n",
              "    .dataframe tbody tr th:only-of-type {\n",
              "        vertical-align: middle;\n",
              "    }\n",
              "\n",
              "    .dataframe tbody tr th {\n",
              "        vertical-align: top;\n",
              "    }\n",
              "\n",
              "    .dataframe thead th {\n",
              "        text-align: right;\n",
              "    }\n",
              "</style>\n",
              "<table border=\"1\" class=\"dataframe\">\n",
              "  <thead>\n",
              "    <tr style=\"text-align: right;\">\n",
              "      <th></th>\n",
              "      <th>nof_reviews</th>\n",
              "    </tr>\n",
              "  </thead>\n",
              "  <tbody>\n",
              "    <tr>\n",
              "      <th>count</th>\n",
              "      <td>206396.000000</td>\n",
              "    </tr>\n",
              "    <tr>\n",
              "      <th>mean</th>\n",
              "      <td>1.038431</td>\n",
              "    </tr>\n",
              "    <tr>\n",
              "      <th>std</th>\n",
              "      <td>0.435590</td>\n",
              "    </tr>\n",
              "    <tr>\n",
              "      <th>min</th>\n",
              "      <td>1.000000</td>\n",
              "    </tr>\n",
              "    <tr>\n",
              "      <th>25%</th>\n",
              "      <td>1.000000</td>\n",
              "    </tr>\n",
              "    <tr>\n",
              "      <th>50%</th>\n",
              "      <td>1.000000</td>\n",
              "    </tr>\n",
              "    <tr>\n",
              "      <th>75%</th>\n",
              "      <td>1.000000</td>\n",
              "    </tr>\n",
              "    <tr>\n",
              "      <th>max</th>\n",
              "      <td>86.000000</td>\n",
              "    </tr>\n",
              "  </tbody>\n",
              "</table>\n",
              "</div>"
            ],
            "text/plain": [
              "         nof_reviews\n",
              "count  206396.000000\n",
              "mean        1.038431\n",
              "std         0.435590\n",
              "min         1.000000\n",
              "25%         1.000000\n",
              "50%         1.000000\n",
              "75%         1.000000\n",
              "max        86.000000"
            ]
          },
          "metadata": {},
          "execution_count": 69
        }
      ]
    },
    {
      "cell_type": "code",
      "metadata": {
        "id": "_unP7TkAuIvK"
      },
      "source": [
        "# From the initial statistics, at least, 75% of users rated just one transaction.\n",
        "# From the boxplot of the number of reviews, I see that there are two users that reviewed a lot of transactions, \n",
        "# much more than the average user, and that most users rate very few transactions (average of 1 transaction per user)."
      ],
      "execution_count": 70,
      "outputs": []
    },
    {
      "cell_type": "code",
      "metadata": {
        "id": "TBXWRH4mbhIk",
        "colab": {
          "base_uri": "https://localhost:8080/",
          "height": 359
        },
        "outputId": "751c1bcf-c9bf-4f9b-fb26-ca5fdf761d03"
      },
      "source": [
        "# Count of number of reviews per user and its percentage\n",
        "\n",
        "rating_counts = ratings_df['nof_reviews'].value_counts()\n",
        "rating_counts_df = pd.DataFrame(rating_counts)\n",
        "rating_counts_df['percentage_of_users'] = (rating_counts_df['nof_reviews'] / rating_counts_df['nof_reviews'].sum() * 100)\n",
        "rating_counts_df.head(10)"
      ],
      "execution_count": 71,
      "outputs": [
        {
          "output_type": "execute_result",
          "data": {
            "text/html": [
              "<div>\n",
              "<style scoped>\n",
              "    .dataframe tbody tr th:only-of-type {\n",
              "        vertical-align: middle;\n",
              "    }\n",
              "\n",
              "    .dataframe tbody tr th {\n",
              "        vertical-align: top;\n",
              "    }\n",
              "\n",
              "    .dataframe thead th {\n",
              "        text-align: right;\n",
              "    }\n",
              "</style>\n",
              "<table border=\"1\" class=\"dataframe\">\n",
              "  <thead>\n",
              "    <tr style=\"text-align: right;\">\n",
              "      <th></th>\n",
              "      <th>nof_reviews</th>\n",
              "      <th>percentage_of_users</th>\n",
              "    </tr>\n",
              "  </thead>\n",
              "  <tbody>\n",
              "    <tr>\n",
              "      <th>1</th>\n",
              "      <td>201163</td>\n",
              "      <td>97.464583</td>\n",
              "    </tr>\n",
              "    <tr>\n",
              "      <th>2</th>\n",
              "      <td>4175</td>\n",
              "      <td>2.022811</td>\n",
              "    </tr>\n",
              "    <tr>\n",
              "      <th>3</th>\n",
              "      <td>596</td>\n",
              "      <td>0.288765</td>\n",
              "    </tr>\n",
              "    <tr>\n",
              "      <th>4</th>\n",
              "      <td>193</td>\n",
              "      <td>0.093510</td>\n",
              "    </tr>\n",
              "    <tr>\n",
              "      <th>5</th>\n",
              "      <td>82</td>\n",
              "      <td>0.039729</td>\n",
              "    </tr>\n",
              "    <tr>\n",
              "      <th>6</th>\n",
              "      <td>51</td>\n",
              "      <td>0.024710</td>\n",
              "    </tr>\n",
              "    <tr>\n",
              "      <th>7</th>\n",
              "      <td>42</td>\n",
              "      <td>0.020349</td>\n",
              "    </tr>\n",
              "    <tr>\n",
              "      <th>8</th>\n",
              "      <td>33</td>\n",
              "      <td>0.015989</td>\n",
              "    </tr>\n",
              "    <tr>\n",
              "      <th>10</th>\n",
              "      <td>13</td>\n",
              "      <td>0.006299</td>\n",
              "    </tr>\n",
              "    <tr>\n",
              "      <th>9</th>\n",
              "      <td>12</td>\n",
              "      <td>0.005814</td>\n",
              "    </tr>\n",
              "  </tbody>\n",
              "</table>\n",
              "</div>"
            ],
            "text/plain": [
              "    nof_reviews  percentage_of_users\n",
              "1        201163            97.464583\n",
              "2          4175             2.022811\n",
              "3           596             0.288765\n",
              "4           193             0.093510\n",
              "5            82             0.039729\n",
              "6            51             0.024710\n",
              "7            42             0.020349\n",
              "8            33             0.015989\n",
              "10           13             0.006299\n",
              "9            12             0.005814"
            ]
          },
          "metadata": {},
          "execution_count": 71
        }
      ]
    },
    {
      "cell_type": "code",
      "metadata": {
        "id": "jBnQ8Ri1uSvj"
      },
      "source": [
        "# As confirmed, it is a positively skewed distribution. More than 97% of users rated just 1 transaction, followed by 2% of users who rated 2 transactions.\n",
        "# Since it appears to be a right skewed (non-symmetrical) distribution, I am going to plot different graphs to examine it."
      ],
      "execution_count": 72,
      "outputs": []
    },
    {
      "cell_type": "code",
      "metadata": {
        "colab": {
          "base_uri": "https://localhost:8080/",
          "height": 387
        },
        "id": "m5u0IH9VKRx2",
        "outputId": "a9203d1b-5d26-4091-d4bd-8bd1645ad9b1"
      },
      "source": [
        "# Plotting of the ratings distribution\n",
        "\n",
        "sns.set_style('white')\n",
        "sns.set_context('paper', font_scale = 1)\n",
        "sns.displot(data=ratings_df, x='nof_reviews', kind='hist', bins = 100, aspect = 1.5)"
      ],
      "execution_count": 73,
      "outputs": [
        {
          "output_type": "execute_result",
          "data": {
            "text/plain": [
              "<seaborn.axisgrid.FacetGrid at 0x7fe69f2a6250>"
            ]
          },
          "metadata": {},
          "execution_count": 73
        },
        {
          "output_type": "display_data",
          "data": {
            "image/png": "[encoded data removed]",
            "text/plain": [
              "<Figure size 540x360 with 1 Axes>"
            ]
          },
          "metadata": {}
        }
      ]
    },
    {
      "cell_type": "code",
      "metadata": {
        "id": "F4gNIOtrFwl2",
        "colab": {
          "base_uri": "https://localhost:8080/",
          "height": 892
        },
        "outputId": "9669128b-1323-415a-afa8-924cc490c471"
      },
      "source": [
        "# Representation of number of ratings excluding outliers (nof_reviews > 84) and/or excluding the lowest number of ratings per user (1 and 2 reviews),\n",
        "# to be able to observe closely the distribution.\n",
        "\n",
        "num_rat_higher1 = ratings_df.drop((ratings_df.index[ratings_df[\"nof_reviews\"] < 2]), axis=0)\n",
        "num_rat_higher2 = ratings_df.drop((ratings_df.index[ratings_df[\"nof_reviews\"] < 3]), axis=0)\n",
        "num_rat_higher1_lower85 = num_rat_higher1.drop((ratings_df.index[ratings_df[\"nof_reviews\"] > 84]), axis=0)\n",
        "num_rat_higher2_lower85 = num_rat_higher2.drop((ratings_df.index[ratings_df[\"nof_reviews\"] > 84]), axis=0)\n",
        "\n",
        "fig = plt.figure(figsize =(15, 15))\n",
        "plt.subplot(2, 2, 1)\n",
        "plt.hist(num_rat_higher1['nof_reviews'], bins=100)\n",
        "plt.title(\"Number of reviews [nof_reviews > 1\")\n",
        "plt.xlabel(\"Number of ratings\")\n",
        "plt.ylabel(\"Number of users\")\n",
        "\n",
        "plt.subplot(2, 2, 2)\n",
        "plt.hist(num_rat_higher2['nof_reviews'], bins=100)\n",
        "plt.title(\"Number of reviews [nof_reviews > 2]\")\n",
        "plt.xlabel(\"Number of ratings\")\n",
        "plt.ylabel(\"Number of users\")\n",
        "\n",
        "plt.subplot(2, 2, 3)\n",
        "plt.hist(num_rat_higher1_lower85['nof_reviews'], bins=100)\n",
        "plt.title(\"Number of reviews [1 < nof_reviews < 85]\")\n",
        "plt.xlabel(\"Number of ratings\")\n",
        "plt.ylabel(\"Number of users\")\n",
        "plt.xlim(0, 30)\n",
        "\n",
        "\n",
        "plt.subplot(2, 2, 4)\n",
        "plt.hist(num_rat_higher2_lower85['nof_reviews'], bins=100)\n",
        "plt.title(\"Number of reviews [2 < nof_reviews < 85]\")\n",
        "plt.xlabel(\"Number of ratings\")\n",
        "plt.ylabel(\"Number of users\")\n",
        "plt.xlim(0, 30)\n",
        "\n",
        "plt.show()"
      ],
      "execution_count": 74,
      "outputs": [
        {
          "output_type": "display_data",
          "data": {
            "image/png": "[encoded data removed]",
            "text/plain": [
              "<Figure size 1080x1080 with 4 Axes>"
            ]
          },
          "metadata": {}
        }
      ]
    },
    {
      "cell_type": "code",
      "metadata": {
        "id": "cu96NGEoubwT"
      },
      "source": [
        "# The distribution is highly skewed to the right, which means that most users rate between 1 to 3 transactions (average is just above 1 transaction per user)."
      ],
      "execution_count": 75,
      "outputs": []
    },
    {
      "cell_type": "code",
      "metadata": {
        "id": "v5YzgMelive0",
        "colab": {
          "base_uri": "https://localhost:8080/",
          "height": 637
        },
        "outputId": "40c866d8-0efe-4b21-ed99-57a58b50d5bb"
      },
      "source": [
        "# A better representation of highly skewed distributions is on a logarithmic scale\n",
        "\n",
        "plt.figure(figsize =(10, 10))\n",
        "plt.hist(ratings_df['nof_reviews'], bins=100, log=True)\n",
        "plt.title(\"Number of reviews on a logarithmic y-scale\")\n",
        "plt.xlabel(\"Number of ratings\")\n",
        "plt.ylabel(\"Number of users (log10)\")"
      ],
      "execution_count": 76,
      "outputs": [
        {
          "output_type": "execute_result",
          "data": {
            "text/plain": [
              "Text(0, 0.5, 'Number of users (log10)')"
            ]
          },
          "metadata": {},
          "execution_count": 76
        },
        {
          "output_type": "display_data",
          "data": {
            "image/png": "[encoded data removed]",
            "text/plain": [
              "<Figure size 720x720 with 1 Axes>"
            ]
          },
          "metadata": {}
        }
      ]
    },
    {
      "cell_type": "code",
      "metadata": {
        "colab": {
          "base_uri": "https://localhost:8080/"
        },
        "id": "nOG67-dwpcma",
        "outputId": "6888ad6c-8e56-4a51-c2e3-5ac49d51a43d"
      },
      "source": [
        "pip install fitter"
      ],
      "execution_count": 77,
      "outputs": [
        {
          "output_type": "stream",
          "name": "stdout",
          "text": [
            "Requirement already satisfied: fitter in /usr/local/lib/python3.7/dist-packages (1.4.0)\n",
            "Requirement already satisfied: numpy in /usr/local/lib/python3.7/dist-packages (from fitter) (1.19.5)\n",
            "Requirement already satisfied: pandas in /usr/local/lib/python3.7/dist-packages (from fitter) (1.1.5)\n",
            "Requirement already satisfied: scipy>=0.18 in /usr/local/lib/python3.7/dist-packages (from fitter) (1.4.1)\n",
            "Requirement already satisfied: easydev in /usr/local/lib/python3.7/dist-packages (from fitter) (0.12.0)\n",
            "Requirement already satisfied: click in /usr/local/lib/python3.7/dist-packages (from fitter) (7.1.2)\n",
            "Requirement already satisfied: joblib in /usr/local/lib/python3.7/dist-packages (from fitter) (1.0.1)\n",
            "Requirement already satisfied: matplotlib in /usr/local/lib/python3.7/dist-packages (from fitter) (3.2.2)\n",
            "Requirement already satisfied: pexpect in /usr/local/lib/python3.7/dist-packages (from easydev->fitter) (4.8.0)\n",
            "Requirement already satisfied: colorlog in /usr/local/lib/python3.7/dist-packages (from easydev->fitter) (6.5.0)\n",
            "Requirement already satisfied: colorama in /usr/local/lib/python3.7/dist-packages (from easydev->fitter) (0.4.4)\n",
            "Requirement already satisfied: kiwisolver>=1.0.1 in /usr/local/lib/python3.7/dist-packages (from matplotlib->fitter) (1.3.2)\n",
            "Requirement already satisfied: cycler>=0.10 in /usr/local/lib/python3.7/dist-packages (from matplotlib->fitter) (0.10.0)\n",
            "Requirement already satisfied: python-dateutil>=2.1 in /usr/local/lib/python3.7/dist-packages (from matplotlib->fitter) (2.8.2)\n",
            "Requirement already satisfied: pyparsing!=2.0.4,!=2.1.2,!=2.1.6,>=2.0.1 in /usr/local/lib/python3.7/dist-packages (from matplotlib->fitter) (2.4.7)\n",
            "Requirement already satisfied: six in /usr/local/lib/python3.7/dist-packages (from cycler>=0.10->matplotlib->fitter) (1.15.0)\n",
            "Requirement already satisfied: pytz>=2017.2 in /usr/local/lib/python3.7/dist-packages (from pandas->fitter) (2018.9)\n",
            "Requirement already satisfied: ptyprocess>=0.5 in /usr/local/lib/python3.7/dist-packages (from pexpect->easydev->fitter) (0.7.0)\n"
          ]
        }
      ]
    },
    {
      "cell_type": "code",
      "metadata": {
        "colab": {
          "base_uri": "https://localhost:8080/",
          "height": 781
        },
        "id": "_Ff1TOXbLSwf",
        "outputId": "a5ea8bfd-ba33-46d0-a805-72c8e601cd00"
      },
      "source": [
        "# Fitting different distributions and finding out the best-suited distribution for the data.\n",
        "# Sum-of-square error will give the indication of best-suited distribution.\n",
        "\n",
        "from fitter import Fitter\n",
        "\n",
        "num_ratings = ratings_df['nof_reviews'].values\n",
        "plt.figure(figsize =(20, 10))\n",
        "f = Fitter(num_ratings, distributions=['gamma', 'lognorm', \"beta\", \"norm\", 'weibull_max', 'weibull_min', 'chi2'])\n",
        "f.fit()\n",
        "f.summary()"
      ],
      "execution_count": 78,
      "outputs": [
        {
          "output_type": "execute_result",
          "data": {
            "text/html": [
              "<div>\n",
              "<style scoped>\n",
              "    .dataframe tbody tr th:only-of-type {\n",
              "        vertical-align: middle;\n",
              "    }\n",
              "\n",
              "    .dataframe tbody tr th {\n",
              "        vertical-align: top;\n",
              "    }\n",
              "\n",
              "    .dataframe thead th {\n",
              "        text-align: right;\n",
              "    }\n",
              "</style>\n",
              "<table border=\"1\" class=\"dataframe\">\n",
              "  <thead>\n",
              "    <tr style=\"text-align: right;\">\n",
              "      <th></th>\n",
              "      <th>sumsquare_error</th>\n",
              "      <th>aic</th>\n",
              "      <th>bic</th>\n",
              "      <th>kl_div</th>\n",
              "    </tr>\n",
              "  </thead>\n",
              "  <tbody>\n",
              "    <tr>\n",
              "      <th>norm</th>\n",
              "      <td>0.279800</td>\n",
              "      <td>1.267563e+06</td>\n",
              "      <td>-2.788639e+06</td>\n",
              "      <td>inf</td>\n",
              "    </tr>\n",
              "    <tr>\n",
              "      <th>chi2</th>\n",
              "      <td>0.365670</td>\n",
              "      <td>1.768110e+04</td>\n",
              "      <td>-2.733385e+06</td>\n",
              "      <td>inf</td>\n",
              "    </tr>\n",
              "    <tr>\n",
              "      <th>gamma</th>\n",
              "      <td>1.312610</td>\n",
              "      <td>7.161255e+03</td>\n",
              "      <td>-2.469602e+06</td>\n",
              "      <td>inf</td>\n",
              "    </tr>\n",
              "    <tr>\n",
              "      <th>beta</th>\n",
              "      <td>1.315367</td>\n",
              "      <td>3.695823e+05</td>\n",
              "      <td>-2.469156e+06</td>\n",
              "      <td>inf</td>\n",
              "    </tr>\n",
              "    <tr>\n",
              "      <th>weibull_min</th>\n",
              "      <td>1.315368</td>\n",
              "      <td>8.069350e+04</td>\n",
              "      <td>-2.469169e+06</td>\n",
              "      <td>inf</td>\n",
              "    </tr>\n",
              "  </tbody>\n",
              "</table>\n",
              "</div>"
            ],
            "text/plain": [
              "             sumsquare_error           aic           bic  kl_div\n",
              "norm                0.279800  1.267563e+06 -2.788639e+06     inf\n",
              "chi2                0.365670  1.768110e+04 -2.733385e+06     inf\n",
              "gamma               1.312610  7.161255e+03 -2.469602e+06     inf\n",
              "beta                1.315367  3.695823e+05 -2.469156e+06     inf\n",
              "weibull_min         1.315368  8.069350e+04 -2.469169e+06     inf"
            ]
          },
          "metadata": {},
          "execution_count": 78
        },
        {
          "output_type": "display_data",
          "data": {
            "image/png": "[encoded data removed]",
            "text/plain": [
              "<Figure size 1440x720 with 1 Axes>"
            ]
          },
          "metadata": {}
        }
      ]
    },
    {
      "cell_type": "code",
      "metadata": {
        "colab": {
          "base_uri": "https://localhost:8080/"
        },
        "id": "cuKpi358Nzed",
        "outputId": "3d81194a-0710-45e4-b0ba-1b1e86e8eb11"
      },
      "source": [
        "# Choose the distribution that best fits the data\n",
        "\n",
        "f.get_best(method = 'sumsquare_error')"
      ],
      "execution_count": 79,
      "outputs": [
        {
          "output_type": "execute_result",
          "data": {
            "text/plain": [
              "{'norm': {'loc': 1.0384309773445222, 'scale': 0.435589262960453}}"
            ]
          },
          "metadata": {},
          "execution_count": 79
        }
      ]
    },
    {
      "cell_type": "markdown",
      "metadata": {
        "id": "tK1ETsiIQE3O"
      },
      "source": [
        "#### ANSWER 2: The distribution of the received number of reviews best fits a positively skewed (non-symmetric) normal distribution."
      ]
    },
    {
      "cell_type": "markdown",
      "metadata": {
        "id": "gLcLfYwBtEVD"
      },
      "source": [
        "## 1.3 What is the average of the rating value?"
      ]
    },
    {
      "cell_type": "code",
      "metadata": {
        "colab": {
          "base_uri": "https://localhost:8080/",
          "height": 204
        },
        "id": "GhOlWYwfy3O1",
        "outputId": "c5989b74-888f-45ce-ffc0-e51de5b2610e"
      },
      "source": [
        "# Average rating per user\n",
        "\n",
        "#ratings_array = np.array(ratings_df['ratings'])\n",
        "#ratings_df['ratings'] = [[float(j) for j in i] for i in ratings_array]\n",
        "ratings_df['ratings_mean'] = pd.DataFrame(ratings_df['ratings'].values.tolist()).mean(1)\n",
        "ratings_df.head()"
      ],
      "execution_count": 80,
      "outputs": [
        {
          "output_type": "execute_result",
          "data": {
            "text/html": [
              "<div>\n",
              "<style scoped>\n",
              "    .dataframe tbody tr th:only-of-type {\n",
              "        vertical-align: middle;\n",
              "    }\n",
              "\n",
              "    .dataframe tbody tr th {\n",
              "        vertical-align: top;\n",
              "    }\n",
              "\n",
              "    .dataframe thead th {\n",
              "        text-align: right;\n",
              "    }\n",
              "</style>\n",
              "<table border=\"1\" class=\"dataframe\">\n",
              "  <thead>\n",
              "    <tr style=\"text-align: right;\">\n",
              "      <th></th>\n",
              "      <th>ratingType</th>\n",
              "      <th>ratings</th>\n",
              "      <th>ratings_date</th>\n",
              "      <th>nof_reviews</th>\n",
              "      <th>ratings_mean</th>\n",
              "    </tr>\n",
              "  </thead>\n",
              "  <tbody>\n",
              "    <tr>\n",
              "      <th>0</th>\n",
              "      <td>SellerToBuyer</td>\n",
              "      <td>[5.0, 5.0, 5.0, 5.0, 5.0, 5.0, 5.0, 5.0, 5.0, ...</td>\n",
              "      <td>[2021-01-27, 2021-01-13, 2021-01-13, 2021-02-0...</td>\n",
              "      <td>86</td>\n",
              "      <td>5.0</td>\n",
              "    </tr>\n",
              "    <tr>\n",
              "      <th>1</th>\n",
              "      <td>BuyerToSeller</td>\n",
              "      <td>[5.0, 5.0, 5.0, 5.0, 5.0, 5.0, 5.0, 5.0, 5.0, ...</td>\n",
              "      <td>[2021-01-09, 2021-01-09, 2021-01-09, 2021-01-0...</td>\n",
              "      <td>85</td>\n",
              "      <td>5.0</td>\n",
              "    </tr>\n",
              "    <tr>\n",
              "      <th>2</th>\n",
              "      <td>BuyerToSeller</td>\n",
              "      <td>[5.0, 5.0, 5.0, 5.0, 5.0, 5.0, 5.0, 5.0, 5.0, ...</td>\n",
              "      <td>[2021-01-01, 2021-01-01, 2021-01-20, 2021-01-2...</td>\n",
              "      <td>29</td>\n",
              "      <td>5.0</td>\n",
              "    </tr>\n",
              "    <tr>\n",
              "      <th>3</th>\n",
              "      <td>SellerToBuyer</td>\n",
              "      <td>[5.0, 5.0, 5.0, 5.0, 5.0, 5.0, 5.0, 5.0, 5.0, ...</td>\n",
              "      <td>[2021-01-31, 2021-01-31, 2021-01-31, 2021-01-1...</td>\n",
              "      <td>28</td>\n",
              "      <td>5.0</td>\n",
              "    </tr>\n",
              "    <tr>\n",
              "      <th>4</th>\n",
              "      <td>BuyerToSeller</td>\n",
              "      <td>[5.0, 5.0, 5.0, 5.0, 5.0, 5.0, 5.0, 5.0, 5.0, ...</td>\n",
              "      <td>[2021-01-22, 2021-01-22, 2021-01-22, 2021-01-2...</td>\n",
              "      <td>24</td>\n",
              "      <td>5.0</td>\n",
              "    </tr>\n",
              "  </tbody>\n",
              "</table>\n",
              "</div>"
            ],
            "text/plain": [
              "      ratingType  ... ratings_mean\n",
              "0  SellerToBuyer  ...          5.0\n",
              "1  BuyerToSeller  ...          5.0\n",
              "2  BuyerToSeller  ...          5.0\n",
              "3  SellerToBuyer  ...          5.0\n",
              "4  BuyerToSeller  ...          5.0\n",
              "\n",
              "[5 rows x 5 columns]"
            ]
          },
          "metadata": {},
          "execution_count": 80
        }
      ]
    },
    {
      "cell_type": "code",
      "metadata": {
        "id": "mtcYgHhTsBcz",
        "colab": {
          "base_uri": "https://localhost:8080/",
          "height": 365
        },
        "outputId": "a56d298f-662d-463c-dd93-89aff2372a1b"
      },
      "source": [
        "# Histogram of the average ratings per user\n",
        "\n",
        "plt.figure(figsize =(10, 5))\n",
        "plt.hist(ratings_df['ratings_mean'], bins=200, log=True)\n",
        "plt.title(\"Average rating per user on a logarithmic y-scale\")\n",
        "plt.xlabel(\"Average rating\")\n",
        "plt.ylabel(\"Number of users (log10)\")\n",
        "\n",
        "# Total average of ratings\n",
        "\n",
        "print(\"Average rating:\", ratings_df['ratings_mean'].mean())"
      ],
      "execution_count": 81,
      "outputs": [
        {
          "output_type": "stream",
          "name": "stdout",
          "text": [
            "Average rating: 4.904674859116564\n"
          ]
        },
        {
          "output_type": "display_data",
          "data": {
            "image/png": "[encoded data removed]",
            "text/plain": [
              "<Figure size 720x360 with 1 Axes>"
            ]
          },
          "metadata": {}
        }
      ]
    },
    {
      "cell_type": "markdown",
      "metadata": {
        "id": "C6bouIlntyVc"
      },
      "source": [
        "##### ANSWER 3: The average of all the ratings is 4.904."
      ]
    },
    {
      "cell_type": "markdown",
      "metadata": {
        "id": "cmR2tdy1u88S"
      },
      "source": [
        "### 1.4 What differences are there between ratings SellerToBuyer and BuyerToSeller?"
      ]
    },
    {
      "cell_type": "code",
      "metadata": {
        "colab": {
          "base_uri": "https://localhost:8080/",
          "height": 142
        },
        "id": "XDdehbn5652q",
        "outputId": "09d2c389-4830-4eab-e2fe-792f5ccbd4d2"
      },
      "source": [
        "# Total number of reviews and the average rating per ratingType\n",
        "\n",
        "grouped = ratings_df.groupby('ratingType').agg({'nof_reviews':'sum', 'ratings_mean':'mean'})\n",
        "grouped"
      ],
      "execution_count": 82,
      "outputs": [
        {
          "output_type": "execute_result",
          "data": {
            "text/html": [
              "<div>\n",
              "<style scoped>\n",
              "    .dataframe tbody tr th:only-of-type {\n",
              "        vertical-align: middle;\n",
              "    }\n",
              "\n",
              "    .dataframe tbody tr th {\n",
              "        vertical-align: top;\n",
              "    }\n",
              "\n",
              "    .dataframe thead th {\n",
              "        text-align: right;\n",
              "    }\n",
              "</style>\n",
              "<table border=\"1\" class=\"dataframe\">\n",
              "  <thead>\n",
              "    <tr style=\"text-align: right;\">\n",
              "      <th></th>\n",
              "      <th>nof_reviews</th>\n",
              "      <th>ratings_mean</th>\n",
              "    </tr>\n",
              "    <tr>\n",
              "      <th>ratingType</th>\n",
              "      <th></th>\n",
              "      <th></th>\n",
              "    </tr>\n",
              "  </thead>\n",
              "  <tbody>\n",
              "    <tr>\n",
              "      <th>BuyerToSeller</th>\n",
              "      <td>84932</td>\n",
              "      <td>4.880167</td>\n",
              "    </tr>\n",
              "    <tr>\n",
              "      <th>SellerToBuyer</th>\n",
              "      <td>129396</td>\n",
              "      <td>4.920779</td>\n",
              "    </tr>\n",
              "  </tbody>\n",
              "</table>\n",
              "</div>"
            ],
            "text/plain": [
              "               nof_reviews  ratings_mean\n",
              "ratingType                              \n",
              "BuyerToSeller        84932      4.880167\n",
              "SellerToBuyer       129396      4.920779"
            ]
          },
          "metadata": {},
          "execution_count": 82
        }
      ]
    },
    {
      "cell_type": "code",
      "metadata": {
        "colab": {
          "base_uri": "https://localhost:8080/",
          "height": 365
        },
        "id": "ISS3E0rgRVjL",
        "outputId": "b12357a8-643b-4b56-a7f8-8ed4b30ad317"
      },
      "source": [
        "# Plots to compare the ratings between the two types of transactions\n",
        "\n",
        "ratings_BtS = ratings_df[ratings_df['ratingType'] == 'BuyerToSeller']\n",
        "ratings_StB = ratings_df[ratings_df['ratingType'] == 'SellerToBuyer']\n",
        "plt.figure(figsize =(10, 5))\n",
        "plt.subplot(1, 2, 1)\n",
        "plt.hist(ratings_BtS['ratings_mean'], bins=100, log=True)\n",
        "plt.title(\"Average rating per user in buyer-to-seller transactions\")\n",
        "plt.xlabel(\"Average rating\")\n",
        "plt.ylabel(\"Number of users (log10)\")\n",
        "\n",
        "plt.subplot(1, 2, 2)\n",
        "plt.hist(ratings_StB['ratings_mean'], bins=100, log=True)\n",
        "plt.title(\"Average rating per user in seller-to-buyer transactions\")\n",
        "plt.xlabel(\"Average rating\")\n",
        "plt.ylabel(\"Number of users (log10)\")"
      ],
      "execution_count": 83,
      "outputs": [
        {
          "output_type": "execute_result",
          "data": {
            "text/plain": [
              "Text(0, 0.5, 'Number of users (log10)')"
            ]
          },
          "metadata": {},
          "execution_count": 83
        },
        {
          "output_type": "display_data",
          "data": {
            "image/png": "[encoded data removed]",
            "text/plain": [
              "<Figure size 720x360 with 2 Axes>"
            ]
          },
          "metadata": {}
        }
      ]
    },
    {
      "cell_type": "code",
      "metadata": {
        "colab": {
          "base_uri": "https://localhost:8080/",
          "height": 365
        },
        "id": "23Vj8N8hRJ9x",
        "outputId": "bfc19e70-aec9-441e-8004-8132a6e0d5ea"
      },
      "source": [
        "nof_reviews_BtS = ratings_df[ratings_df['ratingType'] == 'BuyerToSeller']\n",
        "nof_reviews_StB = ratings_df[ratings_df['ratingType'] == 'SellerToBuyer']\n",
        "plt.figure(figsize =(10, 5))\n",
        "plt.subplot(1, 2, 1)\n",
        "plt.hist(nof_reviews_BtS['nof_reviews'], bins=100, log=True)\n",
        "plt.title(\"Number of reviews in buyer-to-seller transactions (log y-scale\")\n",
        "plt.xlabel(\"Number of reviews\")\n",
        "plt.ylabel(\"Number of buyers (log10)\")\n",
        "\n",
        "plt.subplot(1, 2, 2)\n",
        "plt.hist(nof_reviews_StB['nof_reviews'], bins=100, log=True)\n",
        "plt.title(\"Number of reviews in seller-to-buyer transactions (log y-scale\")\n",
        "plt.xlabel(\"Number of reviews\")\n",
        "plt.ylabel(\"Number of sellers (log10)\")"
      ],
      "execution_count": 84,
      "outputs": [
        {
          "output_type": "execute_result",
          "data": {
            "text/plain": [
              "Text(0, 0.5, 'Number of sellers (log10)')"
            ]
          },
          "metadata": {},
          "execution_count": 84
        },
        {
          "output_type": "display_data",
          "data": {
            "image/png": "[encoded data removed]",
            "text/plain": [
              "<Figure size 720x360 with 2 Axes>"
            ]
          },
          "metadata": {}
        }
      ]
    },
    {
      "cell_type": "markdown",
      "metadata": {
        "id": "4rxrekbtveBt"
      },
      "source": [
        "##### ANSWER 4:  There are aproximately 40% more seller-to-buyer reviews than buyer-to-seller reviews. This makes sense since the seller is interested in keeping a good review rate for the future.\n",
        "##### The average rating is aproximately the same in both cases (around 5) and the average number of ratings is also the same (1 rating per user)."
      ]
    },
    {
      "cell_type": "markdown",
      "metadata": {
        "id": "R3jNPcbEkm7z"
      },
      "source": [
        "### 3 Do a model to rank the users with the information that you have."
      ]
    },
    {
      "cell_type": "code",
      "metadata": {
        "colab": {
          "base_uri": "https://localhost:8080/",
          "height": 204
        },
        "id": "HPInsM5Nltp8",
        "outputId": "5c072874-8e8a-4a85-9381-83b54904cbc0"
      },
      "source": [
        "# Transform categorical column ratinType to numerical (1: SellerToBuyer, 0: BuyerToSeller)\n",
        "\n",
        "from sklearn.preprocessing import LabelEncoder\n",
        "\n",
        "le = LabelEncoder()\n",
        "ratings_df['ratingType'] = le.fit_transform(ratings_df['ratingType'])\n",
        "\n",
        "ratings_df.head()"
      ],
      "execution_count": 85,
      "outputs": [
        {
          "output_type": "execute_result",
          "data": {
            "text/html": [
              "<div>\n",
              "<style scoped>\n",
              "    .dataframe tbody tr th:only-of-type {\n",
              "        vertical-align: middle;\n",
              "    }\n",
              "\n",
              "    .dataframe tbody tr th {\n",
              "        vertical-align: top;\n",
              "    }\n",
              "\n",
              "    .dataframe thead th {\n",
              "        text-align: right;\n",
              "    }\n",
              "</style>\n",
              "<table border=\"1\" class=\"dataframe\">\n",
              "  <thead>\n",
              "    <tr style=\"text-align: right;\">\n",
              "      <th></th>\n",
              "      <th>ratingType</th>\n",
              "      <th>ratings</th>\n",
              "      <th>ratings_date</th>\n",
              "      <th>nof_reviews</th>\n",
              "      <th>ratings_mean</th>\n",
              "    </tr>\n",
              "  </thead>\n",
              "  <tbody>\n",
              "    <tr>\n",
              "      <th>0</th>\n",
              "      <td>1</td>\n",
              "      <td>[5.0, 5.0, 5.0, 5.0, 5.0, 5.0, 5.0, 5.0, 5.0, ...</td>\n",
              "      <td>[2021-01-27, 2021-01-13, 2021-01-13, 2021-02-0...</td>\n",
              "      <td>86</td>\n",
              "      <td>5.0</td>\n",
              "    </tr>\n",
              "    <tr>\n",
              "      <th>1</th>\n",
              "      <td>0</td>\n",
              "      <td>[5.0, 5.0, 5.0, 5.0, 5.0, 5.0, 5.0, 5.0, 5.0, ...</td>\n",
              "      <td>[2021-01-09, 2021-01-09, 2021-01-09, 2021-01-0...</td>\n",
              "      <td>85</td>\n",
              "      <td>5.0</td>\n",
              "    </tr>\n",
              "    <tr>\n",
              "      <th>2</th>\n",
              "      <td>0</td>\n",
              "      <td>[5.0, 5.0, 5.0, 5.0, 5.0, 5.0, 5.0, 5.0, 5.0, ...</td>\n",
              "      <td>[2021-01-01, 2021-01-01, 2021-01-20, 2021-01-2...</td>\n",
              "      <td>29</td>\n",
              "      <td>5.0</td>\n",
              "    </tr>\n",
              "    <tr>\n",
              "      <th>3</th>\n",
              "      <td>1</td>\n",
              "      <td>[5.0, 5.0, 5.0, 5.0, 5.0, 5.0, 5.0, 5.0, 5.0, ...</td>\n",
              "      <td>[2021-01-31, 2021-01-31, 2021-01-31, 2021-01-1...</td>\n",
              "      <td>28</td>\n",
              "      <td>5.0</td>\n",
              "    </tr>\n",
              "    <tr>\n",
              "      <th>4</th>\n",
              "      <td>0</td>\n",
              "      <td>[5.0, 5.0, 5.0, 5.0, 5.0, 5.0, 5.0, 5.0, 5.0, ...</td>\n",
              "      <td>[2021-01-22, 2021-01-22, 2021-01-22, 2021-01-2...</td>\n",
              "      <td>24</td>\n",
              "      <td>5.0</td>\n",
              "    </tr>\n",
              "  </tbody>\n",
              "</table>\n",
              "</div>"
            ],
            "text/plain": [
              "   ratingType  ... ratings_mean\n",
              "0           1  ...          5.0\n",
              "1           0  ...          5.0\n",
              "2           0  ...          5.0\n",
              "3           1  ...          5.0\n",
              "4           0  ...          5.0\n",
              "\n",
              "[5 rows x 5 columns]"
            ]
          },
          "metadata": {},
          "execution_count": 85
        }
      ]
    },
    {
      "cell_type": "code",
      "metadata": {
        "id": "GU95o7Mjrznj",
        "colab": {
          "base_uri": "https://localhost:8080/",
          "height": 294
        },
        "outputId": "0a45faa6-0197-4702-b247-7afd0bccee53"
      },
      "source": [
        "# Calculation of WCSS to find the optimum number of clusters\n",
        "\n",
        "ratings_df.drop(['ratings', 'ratings_date'], axis=1, inplace=True)\n",
        "\n",
        "from sklearn.cluster import KMeans\n",
        "\n",
        "wcss = []\n",
        "for i in range(1, 7):\n",
        "    kmeans = KMeans(n_clusters = i)\n",
        "    kmeans.fit(ratings_df)\n",
        "    wcss.append(kmeans.inertia_)  \n",
        "    \n",
        "# Elbow graph\n",
        "\n",
        "plt.plot(range(1, 7), wcss)\n",
        "plt.title('The Elbow Point Graph')\n",
        "plt.xlabel('Number of clusters')\n",
        "plt.ylabel('WCSS')\n",
        "plt.show()"
      ],
      "execution_count": 86,
      "outputs": [
        {
          "output_type": "display_data",
          "data": {
            "image/png": "[encoded data removed]",
            "text/plain": [
              "<Figure size 432x288 with 1 Axes>"
            ]
          },
          "metadata": {}
        }
      ]
    },
    {
      "cell_type": "code",
      "metadata": {
        "id": "3SFeuKeBklBd",
        "colab": {
          "base_uri": "https://localhost:8080/"
        },
        "outputId": "0f24e425-f49a-4127-b9d3-3c7eaeb39596"
      },
      "source": [
        "#from sklearn.model_selection import train_test_split\n",
        "#X_train, X_test, y_train, y_test = train_test_split(X, y , test_size = 0.25 )\n",
        "\n",
        "kmeans_model = KMeans(n_clusters = 3)\n",
        "kmeans_model.fit(ratings_df)"
      ],
      "execution_count": 87,
      "outputs": [
        {
          "output_type": "execute_result",
          "data": {
            "text/plain": [
              "KMeans(algorithm='auto', copy_x=True, init='k-means++', max_iter=300,\n",
              "       n_clusters=3, n_init=10, n_jobs=None, precompute_distances='auto',\n",
              "       random_state=None, tol=0.0001, verbose=0)"
            ]
          },
          "metadata": {},
          "execution_count": 87
        }
      ]
    },
    {
      "cell_type": "code",
      "metadata": {
        "id": "33z8_gOypnFF",
        "colab": {
          "base_uri": "https://localhost:8080/"
        },
        "outputId": "afb3f05f-237b-461d-bfb9-e3885d7e0faa"
      },
      "source": [
        "# Successful identification of the clusters\n",
        "\n",
        "print(\"Cluster center:\", kmeans_model.cluster_centers_)\n",
        "ratings_df['cluster'] = kmeans_model.labels_"
      ],
      "execution_count": 88,
      "outputs": [
        {
          "output_type": "stream",
          "name": "stdout",
          "text": [
            "Cluster center: [[1.03361764e-12 1.03823049e+00 4.97094592e+00]\n",
            " [1.00000000e+00 1.03903243e+00 4.96862064e+00]\n",
            " [4.59857482e-01 1.02470309e+00 1.78971892e+00]]\n"
          ]
        }
      ]
    },
    {
      "cell_type": "code",
      "metadata": {
        "id": "3Sp2_LK21b7-",
        "colab": {
          "base_uri": "https://localhost:8080/",
          "height": 437
        },
        "outputId": "939a2b3b-441f-4f49-ef7d-6424c0f54b37"
      },
      "source": [
        "# Scatterplot of the types of users\n",
        "\n",
        "sns.lmplot('nof_reviews', 'ratingType', data=ratings_df, hue='cluster', palette='coolwarm', height=5, aspect=4, fit_reg = False, seed = 10, legend=False,)\n",
        "plt.legend(title='Types of users', labels=['Heavy buyers', 'Professional Power Sellers','Non-professional Buyers/Sellers'])\n",
        "plt.title('Classification of Users')\n",
        "plt.xlabel('Number of reviews')\n",
        "plt.ylabel('Types of users')\n",
        "plt.yticks([0,1], labels=['Buyers', 'Sellers'])\n",
        "plt.show()"
      ],
      "execution_count": 89,
      "outputs": [
        {
          "output_type": "stream",
          "name": "stderr",
          "text": [
            "/usr/local/lib/python3.7/dist-packages/seaborn/_decorators.py:43: FutureWarning: Pass the following variables as keyword args: x, y. From version 0.12, the only valid positional argument will be `data`, and passing other arguments without an explicit keyword will result in an error or misinterpretation.\n",
            "  FutureWarning\n"
          ]
        },
        {
          "output_type": "display_data",
          "data": {
            "image/png": "[encoded data removed]",
            "text/plain": [
              "<Figure size 1440x360 with 1 Axes>"
            ]
          },
          "metadata": {}
        }
      ]
    },
    {
      "cell_type": "markdown",
      "metadata": {
        "id": "PQIKFegWHR7N"
      },
      "source": [
        "#### ANSWER: Using an unsupervised classification model, it is possible to see 3 different typs of users:\n",
        "\n",
        "\n",
        "*   Non-professional Buyers/Sellers: Non-professional users that make a normal use of the platform.\n",
        "*   Heavy Buyers: Non-professional users that have a much higher buying pattern on the platform.\n",
        "* Power sellers: Sellers who have moved from selling as a hobby or source of supplemental income to running a full-time business in the marketplace.\n",
        "\n"
      ]
    }
  ]
}